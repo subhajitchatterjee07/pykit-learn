{
 "cells": [
  {
   "cell_type": "code",
   "execution_count": 1,
   "metadata": {},
   "outputs": [],
   "source": [
    "import torch\n",
    "\n",
    "# Initialize weights and biases\n",
    "W1 = torch.tensor([[0.1, 0.4], [-0.2, 0.2]], requires_grad=True) \n",
    "\n",
    "W2 = torch.tensor([[0.2], [-0.5]], requires_grad=True) "
   ]
  },
  {
   "cell_type": "code",
   "execution_count": 2,
   "metadata": {},
   "outputs": [],
   "source": [
    "# Define forward pass\n",
    "def forward(x):\n",
    "    # First linear layer\n",
    "    z1 = x @ W1 \n",
    "    a1 = torch.sigmoid(z1)\n",
    "    \n",
    "    # Second linear layer\n",
    "    z2 = a1 @ W2 \n",
    "    a2 = torch.sigmoid(z2)\n",
    "    \n",
    "    return a2"
   ]
  },
  {
   "cell_type": "code",
   "execution_count": 3,
   "metadata": {},
   "outputs": [
    {
     "name": "stdout",
     "output_type": "stream",
     "text": [
      "Output: 0.46418046951293945\n",
      "tensor([0.1326], grad_fn=<PowBackward0>)\n"
     ]
    }
   ],
   "source": [
    "# Example input\n",
    "x = torch.tensor([0.4, -0.7], requires_grad=False)  # Input size 2\n",
    "\n",
    "# Forward pass\n",
    "y = forward(x)\n",
    "\n",
    "loss = (y - 0.1)**2\n",
    "print(\"Output:\", y.item())\n",
    "print(loss)"
   ]
  },
  {
   "cell_type": "code",
   "execution_count": 4,
   "metadata": {},
   "outputs": [
    {
     "name": "stdout",
     "output_type": "stream",
     "text": [
      "W1: tensor([[ 0.1000,  0.4000],\n",
      "        [-0.2000,  0.2000]], requires_grad=True)\n",
      "Grad: None\n",
      "W2: tensor([[ 0.2000],\n",
      "        [-0.5000]], requires_grad=True)\n",
      "Grad: None\n"
     ]
    }
   ],
   "source": [
    "def print_params():\n",
    "    print(\"W1:\", W1)\n",
    "    print(\"Grad:\", W1.grad)\n",
    "    print(\"W2:\", W2)\n",
    "    print(\"Grad:\", W2.grad)\n",
    "\n",
    "print_params()\n"
   ]
  },
  {
   "cell_type": "code",
   "execution_count": 5,
   "metadata": {},
   "outputs": [],
   "source": [
    "loss.backward()"
   ]
  },
  {
   "cell_type": "code",
   "execution_count": 6,
   "metadata": {},
   "outputs": [
    {
     "name": "stdout",
     "output_type": "stream",
     "text": [
      "W1: tensor([[ 0.1000,  0.4000],\n",
      "        [-0.2000,  0.2000]], requires_grad=True)\n",
      "Grad: tensor([[ 0.0036, -0.0091],\n",
      "        [-0.0063,  0.0158]])\n",
      "W2: tensor([[ 0.2000],\n",
      "        [-0.5000]], requires_grad=True)\n",
      "Grad: tensor([[0.0987],\n",
      "        [0.0915]])\n"
     ]
    }
   ],
   "source": [
    "print_params()"
   ]
  },
  {
   "cell_type": "code",
   "execution_count": 7,
   "metadata": {},
   "outputs": [
    {
     "data": {
      "text/plain": [
       "tensor([[0.],\n",
       "        [0.]])"
      ]
     },
     "execution_count": 7,
     "metadata": {},
     "output_type": "execute_result"
    }
   ],
   "source": [
    "# Learning rate\n",
    "lr = 0.6\n",
    "\n",
    "# Update weights and biases\n",
    "W1.data -= lr * W1.grad\n",
    "W2.data -= lr * W2.grad\n",
    "\n",
    "# Zero the gradients after the update\n",
    "W1.grad.zero_()\n",
    "W2.grad.zero_()"
   ]
  },
  {
   "cell_type": "code",
   "execution_count": 8,
   "metadata": {},
   "outputs": [
    {
     "name": "stdout",
     "output_type": "stream",
     "text": [
      "W1: tensor([[ 0.0978,  0.4054],\n",
      "        [-0.1962,  0.1905]], requires_grad=True)\n",
      "Grad: tensor([[0., 0.],\n",
      "        [0., 0.]])\n",
      "W2: tensor([[ 0.1408],\n",
      "        [-0.5549]], requires_grad=True)\n",
      "Grad: tensor([[0.],\n",
      "        [0.]])\n"
     ]
    }
   ],
   "source": [
    "print_params()"
   ]
  },
  {
   "cell_type": "code",
   "execution_count": 9,
   "metadata": {},
   "outputs": [
    {
     "name": "stdout",
     "output_type": "stream",
     "text": [
      "W1: tensor([[ 0.0978,  0.4054],\n",
      "        [-0.1962,  0.1905]], requires_grad=True)\n",
      "Grad: tensor([[0., 0.],\n",
      "        [0., 0.]])\n",
      "W2: tensor([[ 0.1408],\n",
      "        [-0.5549]], requires_grad=True)\n",
      "Grad: tensor([[0.],\n",
      "        [0.]])\n"
     ]
    }
   ],
   "source": [
    "print_params()"
   ]
  },
  {
   "cell_type": "code",
   "execution_count": null,
   "metadata": {},
   "outputs": [],
   "source": []
  }
 ],
 "metadata": {
  "kernelspec": {
   "display_name": "base",
   "language": "python",
   "name": "python3"
  },
  "language_info": {
   "codemirror_mode": {
    "name": "ipython",
    "version": 3
   },
   "file_extension": ".py",
   "mimetype": "text/x-python",
   "name": "python",
   "nbconvert_exporter": "python",
   "pygments_lexer": "ipython3",
   "version": "3.12.2"
  }
 },
 "nbformat": 4,
 "nbformat_minor": 2
}
