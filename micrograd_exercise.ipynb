{
 "cells": [
  {
   "cell_type": "markdown",
   "metadata": {},
   "source": [
    "https://colab.research.google.com/drive/1FPTx1RXtBfc4MaTkf7viZZD4U2F9gtKN?usp=sharing#scrollTo=nAPe_RVrCTeO"
   ]
  },
  {
   "cell_type": "code",
   "execution_count": 18,
   "metadata": {},
   "outputs": [
    {
     "name": "stdout",
     "output_type": "stream",
     "text": [
      "6.336362190988558\n"
     ]
    }
   ],
   "source": [
    "# here is a mathematical expression that takes 3 inputs and produces one output\n",
    "from math import sin, cos\n",
    "\n",
    "def f(a, b, c):\n",
    "  return -a**3 + sin(3*b) - 1.0/c + b**2.5 - a**0.5\n",
    "\n",
    "print(f(2, 3, 4))"
   ]
  },
  {
   "cell_type": "code",
   "execution_count": 19,
   "metadata": {},
   "outputs": [
    {
     "name": "stdout",
     "output_type": "stream",
     "text": [
      "OK for dim 0: expected -12.353553390593273, yours returns -12.353553390593273\n",
      "OK for dim 1: expected 10.25699027111255, yours returns 10.25699027111255\n",
      "OK for dim 2: expected 0.0625, yours returns 0.0625\n"
     ]
    }
   ],
   "source": [
    "\n",
    "def gradf(a, b, c):\n",
    "    return [-3*(a**2) - 0.5*(a**(-0.5)), 3*(cos(3*b)) + 2.5*(b**1.5), 1/(c**2)]\n",
    "\n",
    "ans = [-12.353553390593273, 10.25699027111255, 0.0625]\n",
    "yours = gradf(2, 3, 4)\n",
    "for dim in range(3):\n",
    "  ok = 'OK' if abs(yours[dim] - ans[dim]) < 1e-5 else 'WRONG!'\n",
    "  print(f\"{ok} for dim {dim}: expected {ans[dim]}, yours returns {yours[dim]}\")\n",
    "\n",
    "#check\n"
   ]
  },
  {
   "cell_type": "code",
   "execution_count": 22,
   "metadata": {},
   "outputs": [
    {
     "name": "stdout",
     "output_type": "stream",
     "text": [
      "using simple gradient\n",
      "[-300.1584138360158, 220.74965637557395, 0.000555553469894221]\n",
      "using symmetric gradient\n",
      "[-300.15811386761015, 220.74955880952982, 0.0011111126241303282]\n",
      "Using grad function\n",
      "[-300.1581138830084, 220.7495588087335, 0.0011111111111111111]\n"
     ]
    }
   ],
   "source": [
    "h = 0.00001\n",
    "#using simple derivative\n",
    "print(\"using simple gradient\")\n",
    "x = [(f(10.0+h, 20.0, 30.0) - f(10.0, 20.0, 30.0))/(h), (f(10.0, 20.0+ h, 30.0) - f(10.0, 20.0, 30.0))/(h), (f(10.0, 20.0, 30.0+h) - f(10.0, 20.0, 30.0))/(2*h)  ]\n",
    "print(x)\n",
    "#using symmetric derivative\n",
    "print(\"using symmetric gradient\")\n",
    "y = [(f(10.0+h, 20.0, 30.0) - f(10.0-h, 20.0, 30.0))/(2*h), (f(10.0, 20.0+ h, 30.0) - f(10.0, 20.0 - h, 30.0))/(2*h), (f(10.0, 20.0, 30.0+h) - f(10.0, 20.0, 30.0-h))/(2*h)  ]\n",
    "print(y)\n",
    "print(\"Using grad function\")\n",
    "print(gradf(10.0, 20.0, 30.0))"
   ]
  },
  {
   "cell_type": "code",
   "execution_count": 24,
   "metadata": {},
   "outputs": [],
   "source": [
    "from math import exp, log"
   ]
  },
  {
   "cell_type": "code",
   "execution_count": 28,
   "metadata": {},
   "outputs": [],
   "source": [
    "\n",
    "\n",
    "class Value:\n",
    "  \n",
    "  def __init__(self, data, _children=(), _op='', label=''):\n",
    "    self.data = data\n",
    "    self.grad = 0.0\n",
    "    self._backward = lambda: None\n",
    "    self._prev = set(_children)\n",
    "    self._op = _op\n",
    "    self.label = label\n",
    "\n",
    "  def __repr__(self):\n",
    "    return f\"Value(data={self.data})\"\n",
    "#---------------------------------------(add)\n",
    "  def __add__(self, other): # exactly as in the video\n",
    "    other = other if isinstance(other, Value) else Value(other)\n",
    "    out = Value(self.data + other.data, (self, other), '+')\n",
    "    \n",
    "    def _backward():\n",
    "      self.grad += 1.0 * out.grad\n",
    "      other.grad += 1.0 * out.grad\n",
    "    out._backward = _backward\n",
    "    return out\n",
    "\n",
    "  def __radd__(self, other):\n",
    "    return self + other\n",
    "  \n",
    "  #---------------------------------------(mul and rmul)\n",
    "  def __mul__(self, other):\n",
    "    other = other if isinstance(other, Value) else Value(other)\n",
    "    out = Value(self.data * other.data, (self, other), 'mul')\n",
    "\n",
    "    def _backward():\n",
    "      self.grad += other.data*out.grad\n",
    "      other.grad += self.data*out.grad\n",
    "    out._backward = _backward\n",
    "    return out\n",
    "  \n",
    "  def __rmul__(self, other):\n",
    "    return self * other\n",
    "#----------------------------------------(sub)\n",
    "  def __sub__(self, other):\n",
    "    return self + (-other)\n",
    "  \n",
    "  def __neg__(self):\n",
    "    return self*(-1)\n",
    "  \n",
    "  def __rsub__(self, other):\n",
    "    return self + (-other)\n",
    "  \n",
    "  #-----------------------------------------(truediv and pow)\n",
    "  def __truediv__(self, other):\n",
    "    return self * (other**-1)\n",
    "  \n",
    "  def __pow__(self, other):\n",
    "    assert isinstance(other, (int, float)), \"cannot support beyond int/float\"\n",
    "    out = Value(self.data**other, (self,), 'pow') \n",
    "\n",
    "    def _backward():\n",
    "      self.grad = other * ((self.data) **(other - 1)) * out.grad\n",
    "    out._backward = _backward\n",
    "    return out\n",
    "  # ---------------------------------------(exp)\n",
    "  def exp(self) -> 'Value':\n",
    "    x = self.data\n",
    "    out = Value(exp(x), (self, ), 'exp')\n",
    "\n",
    "    def _backward():\n",
    "      self.grad += out.data*out.grad\n",
    "    out._backward = _backward\n",
    "    return out\n",
    "  #------------------------------------------(log)\n",
    "  def log(self):\n",
    "    out = Value(log(self.data), (self, ), 'log')\n",
    "\n",
    "    def _backward():\n",
    "      self.grad += (1/self.data)*out.grad\n",
    "    out._backward = _backward\n",
    "    return out\n",
    "  # -----------------------------------------\n",
    "  # re-implement all the other functions needed for the exercises below : ?\n",
    "  # your code here\n",
    "  # TODO\n",
    "  #need to implement:\n",
    "  # - exp(done)\n",
    "  # - radd(done)\n",
    "  # - sub, neg, rsub (done)\n",
    "  # - div-called truediv (done)\n",
    "  # - mul, rmul\n",
    "  # - ah sh#t there is a log!\n",
    "  #__________________________________________ Backward Pass Graph Computation __________________________________________________#\n",
    "  def backward(self): # exactly as in video  \n",
    "    topo = []\n",
    "    visited = set()\n",
    "    def build_topo(v):\n",
    "      if v not in visited:\n",
    "        visited.add(v)\n",
    "        for child in v._prev:\n",
    "          build_topo(child)\n",
    "        topo.append(v)\n",
    "    build_topo(self)\n",
    "    \n",
    "    self.grad = 1.0\n",
    "    for node in reversed(topo):\n",
    "      node._backward()"
   ]
  },
  {
   "cell_type": "code",
   "execution_count": null,
   "metadata": {},
   "outputs": [],
   "source": []
  },
  {
   "cell_type": "code",
   "execution_count": 29,
   "metadata": {},
   "outputs": [
    {
     "name": "stdout",
     "output_type": "stream",
     "text": [
      "2.1755153626167147\n",
      "OK for dim 0: expected 0.041772570515350445, yours returns 0.041772570515350445\n",
      "OK for dim 1: expected 0.8390245074625319, yours returns 0.8390245074625319\n",
      "OK for dim 2: expected 0.005653302662216329, yours returns 0.005653302662216329\n",
      "OK for dim 3: expected -0.8864503806400986, yours returns -0.8864503806400986\n"
     ]
    }
   ],
   "source": [
    "# without referencing our code/video __too__ much, make this cell work\n",
    "# you'll have to implement (in some cases re-implemented) a number of functions\n",
    "# of the Value object, similar to what we've seen in the video.\n",
    "# instead of the squared error loss this implements the negative log likelihood\n",
    "# loss, which is very often used in classification.\n",
    "\n",
    "# this is the softmax function\n",
    "# https://en.wikipedia.org/wiki/Softmax_function\n",
    "def softmax(logits):\n",
    "  counts = [logit.exp() for logit in logits]\n",
    "  denominator = sum(counts)\n",
    "  out = [c / denominator for c in counts]\n",
    "  return out\n",
    "\n",
    "# this is the negative log likelihood loss function, pervasive in classification\n",
    "logits = [Value(0.0), Value(3.0), Value(-2.0), Value(1.0)]\n",
    "probs = softmax(logits)\n",
    "loss = -probs[3].log() # dim 3 acts as the label for this input example\n",
    "loss.backward()\n",
    "print(loss.data)\n",
    "\n",
    "ans = [0.041772570515350445, 0.8390245074625319, 0.005653302662216329, -0.8864503806400986]\n",
    "for dim in range(4):\n",
    "  ok = 'OK' if abs(logits[dim].grad - ans[dim]) < 1e-5 else 'WRONG!'\n",
    "  print(f\"{ok} for dim {dim}: expected {ans[dim]}, yours returns {logits[dim].grad}\")\n"
   ]
  },
  {
   "cell_type": "markdown",
   "metadata": {},
   "source": [
    "#### Yay lol!"
   ]
  },
  {
   "cell_type": "code",
   "execution_count": 42,
   "metadata": {},
   "outputs": [],
   "source": [
    "# verify the gradient using the torch library\n",
    "# torch should give you the exact same gradient\n",
    "import torch\n",
    "logits = torch.tensor([0.0, 3.0, -2.0, 1.0], requires_grad=True)\n",
    "\n",
    "probs = logits.softmax(dim=0)\n",
    "\n",
    "loss = -torch.log(probs[3])\n",
    "\n",
    "loss.backward()\n"
   ]
  },
  {
   "cell_type": "code",
   "execution_count": 43,
   "metadata": {},
   "outputs": [
    {
     "name": "stdout",
     "output_type": "stream",
     "text": [
      "Gradients: tensor([ 0.0418,  0.8390,  0.0057, -0.8865])\n"
     ]
    }
   ],
   "source": [
    "print(\"Gradients:\", logits.grad)"
   ]
  },
  {
   "cell_type": "markdown",
   "metadata": {},
   "source": [
    "# Yay lol omg"
   ]
  }
 ],
 "metadata": {
  "kernelspec": {
   "display_name": "base",
   "language": "python",
   "name": "python3"
  },
  "language_info": {
   "codemirror_mode": {
    "name": "ipython",
    "version": 3
   },
   "file_extension": ".py",
   "mimetype": "text/x-python",
   "name": "python",
   "nbconvert_exporter": "python",
   "pygments_lexer": "ipython3",
   "version": "3.12.2"
  }
 },
 "nbformat": 4,
 "nbformat_minor": 2
}
